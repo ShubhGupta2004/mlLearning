{
  "nbformat": 4,
  "nbformat_minor": 0,
  "metadata": {
    "colab": {
      "provenance": [],
      "include_colab_link": true
    },
    "kernelspec": {
      "name": "python3",
      "display_name": "Python 3"
    }
  },
  "cells": [
    {
      "cell_type": "markdown",
      "metadata": {
        "id": "view-in-github",
        "colab_type": "text"
      },
      "source": [
        "<a href=\"https://colab.research.google.com/github/ShubhGupta2004/mlLearning/blob/main/Copy_of_principal_component_analysis.ipynb\" target=\"_parent\"><img src=\"https://colab.research.google.com/assets/colab-badge.svg\" alt=\"Open In Colab\"/></a>"
      ]
    },
    {
      "cell_type": "markdown",
      "metadata": {
        "id": "VQ3syspj_rKn"
      },
      "source": [
        "# Principal Component Analysis (PCA)"
      ]
    },
    {
      "cell_type": "markdown",
      "metadata": {
        "id": "xJGl9TcT_skx"
      },
      "source": [
        "## Importing the libraries"
      ]
    },
    {
      "cell_type": "code",
      "metadata": {
        "id": "BNEgrGwd_29D"
      },
      "source": [
        "import numpy as np\n",
        "import matplotlib.pyplot as plt\n",
        "import pandas as pd"
      ],
      "execution_count": 12,
      "outputs": []
    },
    {
      "cell_type": "markdown",
      "metadata": {
        "id": "Hyp1gza1_6qX"
      },
      "source": [
        "## Importing the dataset"
      ]
    },
    {
      "cell_type": "code",
      "metadata": {
        "id": "lPLTDBVI__ZQ"
      },
      "source": [
        "dataset = pd.read_csv('Wine.csv')\n",
        "X = dataset.iloc[:, :-1].values\n",
        "y = dataset.iloc[:, -1].values"
      ],
      "execution_count": 13,
      "outputs": []
    },
    {
      "cell_type": "markdown",
      "metadata": {
        "id": "3bUhSHktAcOe"
      },
      "source": [
        "## Splitting the dataset into the Training set and Test set"
      ]
    },
    {
      "cell_type": "code",
      "metadata": {
        "id": "L7hGLt1qAced"
      },
      "source": [
        "from sklearn.model_selection import train_test_split\n",
        "X_train, X_test, y_train, y_test = train_test_split(X, y, test_size = 0.2, random_state = 0)"
      ],
      "execution_count": 14,
      "outputs": []
    },
    {
      "cell_type": "markdown",
      "metadata": {
        "id": "1wrHODfJAEiI"
      },
      "source": [
        "## Feature Scaling"
      ]
    },
    {
      "cell_type": "code",
      "metadata": {
        "id": "W-UCD7ezAJG2"
      },
      "source": [
        "from sklearn.preprocessing import StandardScaler\n",
        "sc = StandardScaler()\n",
        "X_train = sc.fit_transform(X_train)\n",
        "X_test = sc.transform(X_test)"
      ],
      "execution_count": 15,
      "outputs": []
    },
    {
      "cell_type": "code",
      "source": [
        "print(X_train)"
      ],
      "metadata": {
        "colab": {
          "base_uri": "https://localhost:8080/"
        },
        "id": "P875J55jM-2y",
        "outputId": "86e82745-52c5-4eb3-f8ca-42c3241ae7b5"
      },
      "execution_count": 16,
      "outputs": [
        {
          "output_type": "stream",
          "name": "stdout",
          "text": [
            "[[ 0.87668336  0.79842885  0.64412971 ...  0.0290166  -1.06412236\n",
            "  -0.2059076 ]\n",
            " [-0.36659076 -0.7581304  -0.39779858 ...  0.0290166  -0.73083231\n",
            "  -0.81704676]\n",
            " [-1.69689407 -0.34424759 -0.32337513 ...  0.90197362  0.51900537\n",
            "  -1.31256499]\n",
            " ...\n",
            " [-0.70227477 -0.68615078 -0.65828065 ...  0.46549511  0.51900537\n",
            "  -1.31256499]\n",
            " [ 1.13777093 -0.62316862 -0.91876272 ... -0.18922266  1.03282752\n",
            "   0.80164614]\n",
            " [ 1.4610222   0.12361993  0.42085937 ... -1.45501034 -1.2168803\n",
            "  -0.2719767 ]]\n"
          ]
        }
      ]
    },
    {
      "cell_type": "code",
      "source": [
        "print(X_test)"
      ],
      "metadata": {
        "colab": {
          "base_uri": "https://localhost:8080/"
        },
        "id": "zUkUvqoBNGn7",
        "outputId": "3e51f973-6b62-46e2-8822-1f047b7b0b88"
      },
      "execution_count": 17,
      "outputs": [
        {
          "output_type": "stream",
          "name": "stdout",
          "text": [
            "[[ 9.38847070e-01 -6.32166068e-01 -4.35010303e-01 -9.19695615e-01\n",
            "   1.26324041e+00  5.59998633e-01  9.77754158e-01 -1.20637533e+00\n",
            "   2.36680192e-02  3.39284695e-01 -1.45574805e-01  8.52295413e-01\n",
            "   1.04940526e+00]\n",
            " [-2.42263344e-01  2.67579163e-01  4.20859365e-01  7.12764102e-01\n",
            "   8.40672358e-01 -1.27747161e+00 -6.05828120e-01 -9.70634096e-01\n",
            "  -5.87397203e-01  2.42611713e+00 -2.06608025e+00 -1.55017035e+00\n",
            "  -8.66598582e-01]\n",
            " [-7.64438475e-01 -1.11802849e+00 -7.69915825e-01 -1.61767889e-01\n",
            "  -9.20027861e-01  2.03653722e+00  1.18341419e+00 -1.36353615e+00\n",
            "   4.48018868e-01 -2.50930538e-01  1.16386073e+00  3.94021597e-01\n",
            "  -1.06480588e+00]\n",
            " [ 7.15057728e-01 -5.78181354e-01  3.46435916e-01  2.75498106e-01\n",
            "   1.12238439e+00  1.15061407e+00  8.54358136e-01 -1.28495574e+00\n",
            "   1.43251284e+00  5.07917619e-01  1.16312302e-01  6.16214963e-01\n",
            "   1.24761256e+00]\n",
            " [ 8.09879269e-02  3.08378173e+00 -8.81550999e-01  5.67008770e-01\n",
            "  -9.90455870e-01  5.92810602e-01  7.20679112e-01 -4.99151627e-01\n",
            "   6.85655343e-01 -1.03085781e+00 -9.74883977e-01  7.13424560e-01\n",
            "  -1.19694407e+00]\n",
            " [-1.77149051e+00 -2.90262880e-01  3.21173872e+00  2.60758342e+00\n",
            "   1.33366842e+00  1.51154572e+00  3.21944855e+00  8.36715367e-01\n",
            "   4.48018868e-01  4.02522042e-01 -1.01926954e-01  1.53276259e+00\n",
            "  -9.16150406e-01]\n",
            " [ 1.33669479e+00 -2.00288357e-01  9.04611787e-01 -5.69882819e-01\n",
            "   1.47452444e+00  5.59998633e-01  5.76717087e-01 -4.20571216e-01\n",
            "  -6.04371237e-01  2.01884783e-03  4.65495111e-01  1.38000466e+00\n",
            "   1.82571717e+00]\n",
            " [-7.76871216e-01  1.31128363e+00  4.87421183e-02  4.21253438e-01\n",
            "  -8.49599852e-01  6.78191041e-02 -1.05828020e+00  1.07245660e+00\n",
            "  -9.60825950e-01  1.09813285e+00 -1.71689745e+00 -1.39741241e+00\n",
            "  -7.34460386e-01]\n",
            " [-9.13631369e-01 -5.78181354e-01 -9.18762724e-01 -1.61767889e-01\n",
            "  -1.41302392e+00 -9.98569875e-01  8.31330005e-02  5.09112525e-02\n",
            "   4.06420531e-02 -6.93591962e-01  2.03608004e-01  8.10634157e-01\n",
            "  -7.67494935e-01]\n",
            " [-1.12498797e+00 -4.88206831e-01 -1.74528230e-01 -3.07523221e-01\n",
            "  -1.34259591e+00 -1.08059980e+00 -4.61866095e-01  1.22961742e+00\n",
            "   5.76160871e-02 -1.11517427e+00  5.52790813e-01 -4.39203523e-01\n",
            "  -8.66598582e-01]\n",
            " [ 4.66402904e-01  1.68607187e-01 -6.28930558e-02  1.29742774e-01\n",
            "  -7.79171843e-01 -1.40871948e+00 -1.49016628e+00  5.09112525e-02\n",
            "  -1.63978731e+00  2.33889118e-01 -1.10582753e+00 -1.61461816e-01\n",
            "   1.24437889e-01]\n",
            " [ 1.11290545e+00  2.39997536e+00 -5.09433752e-01  1.29742774e-01\n",
            "  -1.41302392e+00 -2.09777082e+00 -1.65469430e+00  2.86652487e-01\n",
            "  -1.57189117e+00 -6.12184986e-02 -1.62960174e+00 -1.74458954e+00\n",
            "  -1.08132315e+00]\n",
            " [ 1.51075317e+00 -5.51188997e-01  3.09224191e-01 -1.26950841e+00\n",
            "   8.40672358e-01  1.65919958e+00  1.48162125e+00 -1.84829982e-01\n",
            "   6.17759208e-01  7.18708773e-01  4.21847260e-01  3.66247427e-01\n",
            "   2.33775268e+00]\n",
            " [-7.64438475e-01 -1.17201321e+00 -9.93186174e-01 -3.07523221e-01\n",
            "  -8.49599852e-01  2.06934919e+00  1.85180931e+00 -9.70634096e-01\n",
            "   5.83811140e-01 -2.29851422e-01  3.78199409e-01  2.55150744e-01\n",
            "  -2.71976699e-01]\n",
            " [ 7.39923211e-01  1.86602092e-01  1.20230558e+00  1.44154076e+00\n",
            "   3.47676297e-01 -1.16262972e+00 -1.14054421e+00  2.08072075e-01\n",
            "  -1.12124252e-01  1.52393098e+00 -9.31236125e-01 -1.09189653e+00\n",
            "   2.53342422e-02]\n",
            " [-1.22444990e+00 -1.30697499e+00 -1.36530342e+00 -1.61767889e-01\n",
            "  -9.90455870e-01  2.64690916e-01  3.19642042e-01 -4.99151627e-01\n",
            "  -2.98838626e-01 -1.07301604e+00  1.86222635e+00  7.41198731e-01\n",
            "  -1.53389647e+00]\n",
            " [ 9.63712552e-01 -7.58130400e-01  1.23951731e+00 -1.60125576e-02\n",
            "   2.24923253e+00  1.13420808e+00  8.13226129e-01  1.07245660e+00\n",
            "  -4.34630898e-01  1.49572656e-01  1.29480428e+00  5.74553707e-01\n",
            "   1.62750987e+00]\n",
            " [ 1.49832042e+00 -7.04145686e-01  4.20859365e-01 -8.90544549e-01\n",
            "   5.58960323e-01  1.70841753e+00  2.03690334e+00 -3.41990805e-01\n",
            "   4.31044834e-01  1.54079428e+00  1.20750858e+00  3.24586171e-01\n",
            "   3.09754730e+00]\n",
            " [-4.28754462e-01 -9.11087089e-01 -1.29087997e+00 -8.03091350e-01\n",
            "  -4.46374703e-03 -3.91548456e-01 -5.54413111e-01  1.30819784e+00\n",
            "  -1.67373538e+00  2.97126464e-01  1.16312302e-01 -1.38352533e+00\n",
            "  -9.65702229e-01]\n",
            " [ 1.05074174e+00 -6.50160973e-01  8.67400062e-01 -6.86487084e-01\n",
            "  -4.27031800e-01  3.13908869e-01  1.07030117e+00 -1.12779492e+00\n",
            "   1.16092829e+00  2.33889118e-01  1.25115643e+00  1.08837586e+00\n",
            "   1.72661352e+00]\n",
            " [ 1.55584374e-01 -1.22599792e+00 -2.48165516e+00 -1.32781054e+00\n",
            "  -1.55387994e+00  1.18342604e+00  1.26567821e+00 -8.13473273e-01\n",
            "   1.14395426e+00  1.07414425e-01  7.27382218e-01  8.24521243e-01\n",
            "  -7.93922574e-01]\n",
            " [ 8.09879269e-02 -6.50160973e-01  6.81341438e-01 -4.53278553e-01\n",
            "  -1.45319765e-01  3.13908869e-01  4.94453073e-01 -5.77732039e-01\n",
            "  -2.81864592e-01 -3.35247000e-01  7.27382218e-01 -1.05913475e-01\n",
            "   1.19806073e+00]\n",
            " [ 3.17210010e-01  1.95599544e-01  1.87211663e+00  4.21253438e-01\n",
            "   1.26324041e+00  8.88118319e-01  7.61811120e-01  2.08072075e-01\n",
            "   3.63148698e-01 -3.05736238e-01  3.78199409e-01  4.77344109e-01\n",
            "  -2.42175814e-02]\n",
            " [-5.90380098e-01 -5.78181354e-01 -1.43972687e+00  2.75498106e-01\n",
            "  -1.06088388e+00 -9.62407389e-02 -2.99800193e-02 -3.41990805e-01\n",
            "  -2.13968456e-01 -8.87519825e-01  3.78199409e-01  1.36611757e+00\n",
            "  -2.32335240e-01]\n",
            " [-8.14169440e-01 -1.14502085e+00 -3.23375129e-01 -1.03629988e+00\n",
            "   6.59642617e-02 -3.42330503e-01 -8.83469169e-01  2.09400195e+00\n",
            "  -2.03019009e+00 -7.48397663e-01  1.29480428e+00 -1.27242864e+00\n",
            "  -2.05907601e-01]\n",
            " [-5.77947357e-01  5.16403072e-02 -7.32704101e-01  4.21253438e-01\n",
            "  -8.49599852e-01  4.77968712e-01  3.29925044e-01 -8.13473273e-01\n",
            "  -6.55293339e-01 -1.28380720e+00 -2.32870507e-01  2.69037829e-01\n",
            "  -1.37863409e+00]\n",
            " [-6.89842028e-01 -7.58130400e-01 -2.86163404e-01  5.67008770e-01\n",
            "  -9.90455870e-01  7.89682413e-01  1.23482920e+00  2.08072075e-01\n",
            "   2.78278529e-01 -4.65937515e-01 -1.14947538e+00  3.52360341e-01\n",
            "  -1.28944081e+00]\n",
            " [-1.02552604e+00 -6.86150782e-01 -2.11739955e-01  9.45972633e-01\n",
            "  -7.08743835e-01 -7.85292079e-01 -2.66489061e-01  5.22393721e-01\n",
            "  -7.81761846e-02 -1.09409516e+00  1.64398709e+00 -4.53090608e-01\n",
            "  -8.17046759e-01]\n",
            " [-1.52283569e+00  2.76576615e-01  2.05817525e+00  1.29742774e-01\n",
            "   2.06820279e-01 -8.34510032e-01  8.31330005e-02  1.85826072e+00\n",
            "  -9.43851916e-01 -5.24959039e-01  1.20750858e+00 -1.19800560e-01\n",
            "  -4.47059809e-01]\n",
            " [ 9.88578035e-01  3.48556233e-01 -2.48951679e-01  7.12764102e-01\n",
            "  -7.08743835e-01 -1.49074940e+00 -1.30507224e+00  3.65232898e-01\n",
            "  -9.77799984e-01  1.91178671e+00 -1.10582753e+00 -1.25854156e+00\n",
            "  -4.20632170e-01]\n",
            " [ 5.03701128e-01 -5.42191545e-01  9.41823511e-01 -1.00714881e+00\n",
            "  -4.97459808e-01  9.70148241e-01  1.01888616e+00 -1.84829982e-01\n",
            "  -2.64890558e-01 -1.03376729e-01 -1.45574805e-01  8.80069584e-01\n",
            "   1.49537167e+00]\n",
            " [ 1.53561865e+00 -6.05173711e-01 -2.48951679e-01 -9.48846682e-01\n",
            "   1.26324041e+00  1.54435769e+00  1.08058418e+00 -8.13473273e-01\n",
            "   7.19603411e-01  5.62723319e-01 -5.82791026e-02  1.00505335e+00\n",
            "   7.52094321e-01]\n",
            " [-1.17471893e+00  1.73416389e+00  4.87421183e-02  7.12764102e-01\n",
            "  -1.41302392e+00 -2.60300582e-01 -2.04791050e-01  4.43813310e-01\n",
            "  -4.34630898e-01 -1.03085781e+00 -7.12996870e-01 -2.25909628e-02\n",
            "  -5.36253092e-01]\n",
            " [ 1.52318591e+00  1.50023013e+00  2.72012467e-01 -1.90918956e-01\n",
            "   7.70244349e-01  9.70148241e-01  7.20679112e-01 -4.99151627e-01\n",
            "  -6.04371237e-01  8.21194866e-02 -3.63814061e-01  1.03282752e+00\n",
            "   1.11547436e+00]\n",
            " [ 2.29401586e+00 -6.59158425e-01 -7.32704101e-01 -1.61932121e+00\n",
            "  -2.15747773e-01  8.88118319e-01  1.06001817e+00 -5.77732039e-01\n",
            "   6.34733242e-01  6.52561942e-02  5.52790813e-01  3.66247427e-01\n",
            "   9.99853439e-01]\n",
            " [ 8.09879269e-02 -5.42191545e-01 -9.93186174e-01 -7.44789217e-01\n",
            "   4.88532314e-01  1.21623801e+00  1.08058418e+00 -6.56312450e-01\n",
            "   7.19603411e-01 -2.19697526e-03 -3.20166209e-01  1.06060169e+00\n",
            "   4.71300654e-01]]\n"
          ]
        }
      ]
    },
    {
      "cell_type": "markdown",
      "metadata": {
        "id": "S3i3lRiwASAX"
      },
      "source": [
        "## Applying PCA"
      ]
    },
    {
      "cell_type": "code",
      "source": [
        "from sklearn.decomposition import PCA\n",
        "pca = PCA(n_components=2)\n",
        "X_train = pca.fit_transform(X_train)\n",
        "X_test  = pca.transform(X_test)\n"
      ],
      "metadata": {
        "id": "6jE6sGk4Nt0-"
      },
      "execution_count": 18,
      "outputs": []
    },
    {
      "cell_type": "markdown",
      "metadata": {
        "id": "UBx16JVLAuel"
      },
      "source": [
        "## Training the Logistic Regression model on the Training set"
      ]
    },
    {
      "cell_type": "code",
      "metadata": {
        "id": "XDQahsqTAy44",
        "outputId": "a8b37903-c0cf-4ea1-8369-b23414aa6679",
        "colab": {
          "base_uri": "https://localhost:8080/"
        }
      },
      "source": [
        "from sklearn.linear_model import LogisticRegression\n",
        "classifier = LogisticRegression(random_state = 0)\n",
        "classifier.fit(X_train, y_train)"
      ],
      "execution_count": 19,
      "outputs": [
        {
          "output_type": "execute_result",
          "data": {
            "text/plain": [
              "LogisticRegression(random_state=0)"
            ]
          },
          "metadata": {},
          "execution_count": 19
        }
      ]
    },
    {
      "cell_type": "markdown",
      "metadata": {
        "id": "MTck416XBPnD"
      },
      "source": [
        "## Making the Confusion Matrix"
      ]
    },
    {
      "cell_type": "code",
      "metadata": {
        "id": "2LO7H5LsBS1b",
        "outputId": "2aa81750-6617-4ea3-8c64-f9e89f43f15e",
        "colab": {
          "base_uri": "https://localhost:8080/"
        }
      },
      "source": [
        "from sklearn.metrics import confusion_matrix, accuracy_score\n",
        "y_pred = classifier.predict(X_test)\n",
        "cm = confusion_matrix(y_test, y_pred)\n",
        "print(cm)\n",
        "accuracy_score(y_test, y_pred)"
      ],
      "execution_count": 20,
      "outputs": [
        {
          "output_type": "stream",
          "name": "stdout",
          "text": [
            "[[14  0  0]\n",
            " [ 1 15  0]\n",
            " [ 0  0  6]]\n"
          ]
        },
        {
          "output_type": "execute_result",
          "data": {
            "text/plain": [
              "0.9722222222222222"
            ]
          },
          "metadata": {},
          "execution_count": 20
        }
      ]
    },
    {
      "cell_type": "markdown",
      "metadata": {
        "id": "h6pZMBrUBXwb"
      },
      "source": [
        "## Visualising the Training set results"
      ]
    },
    {
      "cell_type": "code",
      "metadata": {
        "id": "FK_LpLOeBdQ4",
        "outputId": "c0e4d2b1-3148-4ca5-b886-0a1a48c12ab8",
        "colab": {
          "base_uri": "https://localhost:8080/",
          "height": 367
        }
      },
      "source": [
        "from matplotlib.colors import ListedColormap\n",
        "X_set, y_set = X_train, y_train\n",
        "X1, X2 = np.meshgrid(np.arange(start = X_set[:, 0].min() - 1, stop = X_set[:, 0].max() + 1, step = 0.01),\n",
        "                     np.arange(start = X_set[:, 1].min() - 1, stop = X_set[:, 1].max() + 1, step = 0.01))\n",
        "plt.contourf(X1, X2, classifier.predict(np.array([X1.ravel(), X2.ravel()]).T).reshape(X1.shape),\n",
        "             alpha = 0.75, cmap = ListedColormap(('red', 'green', 'blue')))\n",
        "plt.xlim(X1.min(), X1.max())\n",
        "plt.ylim(X2.min(), X2.max())\n",
        "for i, j in enumerate(np.unique(y_set)):\n",
        "    plt.scatter(X_set[y_set == j, 0], X_set[y_set == j, 1],\n",
        "                c = ListedColormap(('red', 'green', 'blue'))(i), label = j)\n",
        "plt.title('Logistic Regression (Training set)')\n",
        "plt.xlabel('PC1')\n",
        "plt.ylabel('PC2')\n",
        "plt.legend()\n",
        "plt.show()"
      ],
      "execution_count": 21,
      "outputs": [
        {
          "output_type": "stream",
          "name": "stderr",
          "text": [
            "WARNING:matplotlib.axes._axes:*c* argument looks like a single numeric RGB or RGBA sequence, which should be avoided as value-mapping will have precedence in case its length matches with *x* & *y*.  Please use the *color* keyword-argument or provide a 2-D array with a single row if you intend to specify the same RGB or RGBA value for all points.\n",
            "WARNING:matplotlib.axes._axes:*c* argument looks like a single numeric RGB or RGBA sequence, which should be avoided as value-mapping will have precedence in case its length matches with *x* & *y*.  Please use the *color* keyword-argument or provide a 2-D array with a single row if you intend to specify the same RGB or RGBA value for all points.\n",
            "WARNING:matplotlib.axes._axes:*c* argument looks like a single numeric RGB or RGBA sequence, which should be avoided as value-mapping will have precedence in case its length matches with *x* & *y*.  Please use the *color* keyword-argument or provide a 2-D array with a single row if you intend to specify the same RGB or RGBA value for all points.\n"
          ]
        },
        {
          "output_type": "display_data",
          "data": {
            "text/plain": [
              "<Figure size 432x288 with 1 Axes>"
            ],
            "image/png": "[encoded data removed]"
          },
          "metadata": {
            "needs_background": "light"
          }
        }
      ]
    },
    {
      "cell_type": "markdown",
      "metadata": {
        "id": "-Dbzx_KqBguX"
      },
      "source": [
        "## Visualising the Test set results"
      ]
    },
    {
      "cell_type": "code",
      "metadata": {
        "id": "kk07XbUHBl0W",
        "outputId": "8e6a3383-f1de-4252-a32c-9b6a8ebd74d6",
        "colab": {
          "base_uri": "https://localhost:8080/",
          "height": 367
        }
      },
      "source": [
        "from matplotlib.colors import ListedColormap\n",
        "X_set, y_set = X_test, y_test\n",
        "X1, X2 = np.meshgrid(np.arange(start = X_set[:, 0].min() - 1, stop = X_set[:, 0].max() + 1, step = 0.01),\n",
        "                     np.arange(start = X_set[:, 1].min() - 1, stop = X_set[:, 1].max() + 1, step = 0.01))\n",
        "plt.contourf(X1, X2, classifier.predict(np.array([X1.ravel(), X2.ravel()]).T).reshape(X1.shape),\n",
        "             alpha = 0.75, cmap = ListedColormap(('red', 'green', 'blue')))\n",
        "plt.xlim(X1.min(), X1.max())\n",
        "plt.ylim(X2.min(), X2.max())\n",
        "for i, j in enumerate(np.unique(y_set)):\n",
        "    plt.scatter(X_set[y_set == j, 0], X_set[y_set == j, 1],\n",
        "                c = ListedColormap(('red', 'green', 'blue'))(i), label = j)\n",
        "plt.title('Logistic Regression (Test set)')\n",
        "plt.xlabel('PC1')\n",
        "plt.ylabel('PC2')\n",
        "plt.legend()\n",
        "plt.show()"
      ],
      "execution_count": 22,
      "outputs": [
        {
          "output_type": "stream",
          "name": "stderr",
          "text": [
            "WARNING:matplotlib.axes._axes:*c* argument looks like a single numeric RGB or RGBA sequence, which should be avoided as value-mapping will have precedence in case its length matches with *x* & *y*.  Please use the *color* keyword-argument or provide a 2-D array with a single row if you intend to specify the same RGB or RGBA value for all points.\n",
            "WARNING:matplotlib.axes._axes:*c* argument looks like a single numeric RGB or RGBA sequence, which should be avoided as value-mapping will have precedence in case its length matches with *x* & *y*.  Please use the *color* keyword-argument or provide a 2-D array with a single row if you intend to specify the same RGB or RGBA value for all points.\n",
            "WARNING:matplotlib.axes._axes:*c* argument looks like a single numeric RGB or RGBA sequence, which should be avoided as value-mapping will have precedence in case its length matches with *x* & *y*.  Please use the *color* keyword-argument or provide a 2-D array with a single row if you intend to specify the same RGB or RGBA value for all points.\n"
          ]
        },
        {
          "output_type": "display_data",
          "data": {
            "text/plain": [
              "<Figure size 432x288 with 1 Axes>"
            ],
            "image/png": "[encoded data removed]"
          },
          "metadata": {
            "needs_background": "light"
          }
        }
      ]
    }
  ]
}